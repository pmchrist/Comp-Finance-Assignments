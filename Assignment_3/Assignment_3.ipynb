{
 "cells": [
  {
   "attachments": {},
   "cell_type": "markdown",
   "metadata": {},
   "source": [
    "Latex file: \n",
    "https://www.overleaf.com/1946115884tgyvydbsvzyp"
   ]
  },
  {
   "attachments": {},
   "cell_type": "markdown",
   "metadata": {},
   "source": [
    "Some sources:\n",
    "\n",
    "    on PDEs:\n",
    "https://youtu.be/YotrBNLFen0 ,\n",
    "https://www.youtube.com/watch?v=MEqYYjGcnww&list=PLkZjai-2Jcxn35XnijUtqqEg0Wi5Sn8ab&index=72&ab_channel=JeffreyChasnov ,\n",
    "http://www.cs.man.ac.uk/~fumie/tmp/introductory-finite-difference-methods-for-pdes.pdf\n",
    "\n",
    "    on BS PDE:\n",
    "https://youtu.be/kP3Tse3UqYg ,\n",
    "https://www.ijsrp.org/research-paper-1119/ijsrp-p9575.pdf , \n",
    "https://www.diva-portal.org/smash/get/diva2:1138545/FULLTEXT02 \n",
    "\n",
    "    more:\n",
    "https://arxiv.org/ftp/arxiv/papers/1311/1311.0438.pdf\n",
    "\n",
    "    notes:\n",
    "book is somewhat useless ,\n",
    "slides are good ,\n",
    "old sources cover nearly everything for part 2 and 3"
   ]
  },
  {
   "cell_type": "code",
   "execution_count": null,
   "metadata": {
    "vscode": {
     "languageId": "plaintext"
    }
   },
   "outputs": [],
   "source": []
  }
 ],
 "metadata": {
  "kernelspec": {
   "display_name": "Python 3",
   "language": "python",
   "name": "python3"
  },
  "language_info": {
   "codemirror_mode": {
    "name": "ipython",
    "version": 2
   },
   "file_extension": ".py",
   "mimetype": "text/x-python",
   "name": "python",
   "nbconvert_exporter": "python",
   "pygments_lexer": "ipython2",
   "version": "2.7.6"
  }
 },
 "nbformat": 4,
 "nbformat_minor": 0
}
