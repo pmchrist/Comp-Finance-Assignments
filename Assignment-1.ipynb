{
 "cells": [
  {
   "attachments": {},
   "cell_type": "markdown",
   "metadata": {},
   "source": [
    "ToDo: add Delta hedge."
   ]
  },
  {
   "attachments": {},
   "cell_type": "markdown",
   "metadata": {},
   "source": [
    "# Binomial Tree"
   ]
  },
  {
   "cell_type": "code",
   "execution_count": 235,
   "metadata": {},
   "outputs": [],
   "source": [
    "import numpy as np\n",
    "import matplotlib.pyplot as plt\n",
    "\n",
    "sigma = 0.1\n",
    "S = 80\n",
    "T = 1.0\n",
    "N = 200\n",
    "K = 85\n",
    "r = 0.1"
   ]
  },
  {
   "cell_type": "code",
   "execution_count": 236,
   "metadata": {},
   "outputs": [],
   "source": [
    "def buildTree (S, vol , T, N):\n",
    "    dt = T/N\n",
    "    matrix = np.zeros((N+1, N+1))\n",
    "    u = np.exp(vol*np.sqrt(dt))\n",
    "    d = np.exp(-vol*np.sqrt(dt))    # Or 1/u\n",
    "    for i in np.arange(N+1):        # iterate over rows\n",
    "        for j in np.arange(i+1):    # iterate over columns\n",
    "        # Hint : express each cell as a combination of up and down moves\n",
    "            matrix[i, j] = S*(u**j * d**(i-j))\n",
    "\n",
    "    return matrix "
   ]
  },
  {
   "cell_type": "code",
   "execution_count": 237,
   "metadata": {},
   "outputs": [
    {
     "name": "stdout",
     "output_type": "stream",
     "text": [
      "[[ 80.           0.           0.         ...   0.           0.\n",
      "    0.        ]\n",
      " [ 79.43630987  80.56769015   0.         ...   0.           0.\n",
      "    0.        ]\n",
      " [ 78.87659157  80.          81.1394087  ...   0.           0.\n",
      "    0.        ]\n",
      " ...\n",
      " [ 19.72634808  20.00730273  20.29225892 ... 324.43917016   0.\n",
      "    0.        ]\n",
      " [ 19.58735373  19.86632874  20.14927709 ... 322.15313068 326.74143166\n",
      "    0.        ]\n",
      " [ 19.44933875  19.72634808  20.00730273 ... 319.88319892 324.43917016\n",
      "  329.0600303 ]]\n"
     ]
    }
   ],
   "source": [
    "print(buildTree(S, sigma, T, N))"
   ]
  },
  {
   "cell_type": "code",
   "execution_count": 238,
   "metadata": {},
   "outputs": [],
   "source": [
    "def valueOptionMatrix (tree, T, N, r, K, vol, call=True):\n",
    "\n",
    "    dt = T/N\n",
    "    u = np.exp(vol*np.sqrt(dt))\n",
    "    d = np.exp(-vol*np.sqrt(dt))    # Or 1/u\n",
    "    p = (np.exp(r*dt)-d)/(u-d)      # risk-neutral probability\n",
    "\n",
    "    columns = tree.shape[1]\n",
    "    rows = tree.shape[0]\n",
    "\n",
    "    # Walk backward, we start in last row of the matrix\n",
    "\n",
    "    # Add the payoff function in the last row\n",
    "    for c in np.arange(columns):\n",
    "        S = tree[rows - 1, c]   # value in the matrix\n",
    "        if call:\n",
    "            tree[rows - 1, c] = max(0, S-K) # Should be higher than strike price, or worthless (Call case)\n",
    "        else:\n",
    "            tree[rows - 1, c] = max(0, K-S) # Should be higher than strike price, or worthless (Call case)\n",
    "\n",
    "    # For all other rows, we need to combine from previous rows\n",
    "    # We walk backwards, from the last row to the first row\n",
    "    for i in np.arange(rows - 1)[::-1]:\n",
    "        for j in np.arange(i + 1):\n",
    "            down = tree[i + 1, j]\n",
    "            up = tree[i + 1, j + 1]\n",
    "            tree[i, j] = np.exp(-r*dt) * (p*up+(1-p)*down)\n",
    "\n",
    "    return tree\n"
   ]
  },
  {
   "cell_type": "code",
   "execution_count": 239,
   "metadata": {},
   "outputs": [
    {
     "name": "stdout",
     "output_type": "stream",
     "text": [
      "EU Call Price:  4.909059740163179\n",
      "EU Put Price:  1.820240273221109\n"
     ]
    }
   ],
   "source": [
    "tree = buildTree(S, sigma, T, N)\n",
    "print(\"EU Call Price: \", valueOptionMatrix(tree, T, N, r, K, sigma)[0,0])\n",
    "tree = buildTree(S, sigma, T, N)\n",
    "print(\"EU Put Price: \", valueOptionMatrix(tree, T, N, r, K, sigma, False)[0,0])\n",
    "# Cross referenced with this site, results are correct\n",
    "# https://www.optionseducation.org/toolsoptionquotes/optionscalculator"
   ]
  },
  {
   "cell_type": "code",
   "execution_count": 240,
   "metadata": {},
   "outputs": [],
   "source": [
    "def valueOptionMatrixAmerican (tree, T, N, r, K, vol, call=True):\n",
    "\n",
    "    dt = T/N\n",
    "    u = np.exp(vol*np.sqrt(dt))\n",
    "    d = np.exp(-vol*np.sqrt(dt))    # Or 1/u\n",
    "    p = (np.exp(r*dt)-d)/(u-d)      # risk-neutral probability\n",
    "\n",
    "    columns = tree.shape[1]\n",
    "    rows = tree.shape[0]\n",
    "\n",
    "    # Walk backward, we start in last row of the matrix\n",
    "\n",
    "    # Add the payoff function in the last row\n",
    "    for c in np.arange(columns):\n",
    "        S = tree[rows - 1, c]   # value in the matrix\n",
    "        if call:\n",
    "            tree[rows - 1, c] = max(0, S-K) # Should be higher than strike price, or worthless (Call case)\n",
    "        else:\n",
    "            tree[rows - 1, c] = max(0, K-S) # Should be lower than strike price to be in money (Put case)\n",
    "\n",
    "    # For all other rows, we need to combine from previous rows\n",
    "    # We walk backwards, from the last row to the first row\n",
    "    for i in np.arange(rows - 1)[::-1]:\n",
    "        for j in np.arange(i + 1):\n",
    "            down = tree[i + 1, j]\n",
    "            up = tree[i + 1, j + 1]\n",
    "            if call:\n",
    "                tree[i, j] = max(tree[i, j] - K , (np.exp(-r*dt) * (p*up+(1-p)*down)))  # Is it better to use continuation value or to excercise now\n",
    "            else:\n",
    "                tree[i, j] = max(K - tree[i, j] , (np.exp(-r*dt) * (p*up+(1-p)*down)))\n",
    "\n",
    "    return tree"
   ]
  },
  {
   "cell_type": "code",
   "execution_count": 241,
   "metadata": {},
   "outputs": [
    {
     "name": "stdout",
     "output_type": "stream",
     "text": [
      "US Call Price:  4.909059740163179\n",
      "US Put Price:  5.0\n"
     ]
    }
   ],
   "source": [
    "tree = buildTree(S, sigma, T, N)\n",
    "print(\"US Call Price: \", valueOptionMatrixAmerican(tree, T, N, r, K, sigma)[0,0])\n",
    "tree = buildTree(S, sigma, T, N)\n",
    "print(\"US Put Price: \", valueOptionMatrixAmerican(tree, T, N, r, K, sigma, False)[0,0])\n",
    "# Cross referenced with this site, results are correct\n",
    "# https://www.optionseducation.org/toolsoptionquotes/optionscalculator"
   ]
  },
  {
   "cell_type": "code",
   "execution_count": 242,
   "metadata": {},
   "outputs": [
    {
     "data": {
      "text/plain": [
       "[<matplotlib.lines.Line2D at 0x22f67984460>]"
      ]
     },
     "execution_count": 242,
     "metadata": {},
     "output_type": "execute_result"
    },
    {
     "data": {
      "image/png": "[encoded data removed]",
      "text/plain": [
       "<Figure size 640x480 with 1 Axes>"
      ]
     },
     "metadata": {},
     "output_type": "display_data"
    }
   ],
   "source": [
    "# Option params\n",
    "sigma = 0.1\n",
    "S = 80\n",
    "T = 1.0\n",
    "N_arr = np.arange(1, 20)  # Play around with different ranges of N and step sizes (1,300)\n",
    "K = 85\n",
    "r = 0.1\n",
    "\n",
    "# Calculate the option price for the correct parameters\n",
    "from part3 import d1_d2, call_option_price\n",
    "d1, d2 = d1_d2(S, K, r, sigma, T)\n",
    "optionPriceAnalytical = call_option_price(S, K, r, T, d1, d2)\n",
    "\n",
    "# calculate option price for each n in N\n",
    "priceApproximatedly = []\n",
    "for n in N_arr:\n",
    "    treeN = buildTree(S, sigma, T, n)\n",
    "    priceApproximatedly.append(valueOptionMatrix(treeN, T, n, r, K, sigma)[0,0])\n",
    "\n",
    "# use matplotlib to plot the analytical value\n",
    "# and the approximated value for each n\n",
    "plt.title(\"Error rate: Binomial vs Scholes\")\n",
    "plt.xlabel(\"N\")\n",
    "plt.ylabel(\"Difference\")\n",
    "plt.plot(N_arr, [y-optionPriceAnalytical for y in priceApproximatedly])"
   ]
  }
 ],
 "metadata": {
  "kernelspec": {
   "display_name": "ABM",
   "language": "python",
   "name": "python3"
  },
  "language_info": {
   "codemirror_mode": {
    "name": "ipython",
    "version": 3
   },
   "file_extension": ".py",
   "mimetype": "text/x-python",
   "name": "python",
   "nbconvert_exporter": "python",
   "pygments_lexer": "ipython3",
   "version": "3.9.15"
  },
  "orig_nbformat": 4,
  "vscode": {
   "interpreter": {
    "hash": "86bc8a943d562c4a67ae73fc47e0f626d68abcc3b9f6a0a0642b86892949bf6b"
   }
  }
 },
 "nbformat": 4,
 "nbformat_minor": 2
}
