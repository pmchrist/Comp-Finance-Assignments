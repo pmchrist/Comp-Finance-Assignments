{
 "cells": [
  {
   "attachments": {},
   "cell_type": "markdown",
   "metadata": {},
   "source": [
    "ToDo: add support for Call/Option, add American option support, add Delta hedge."
   ]
  },
  {
   "attachments": {},
   "cell_type": "markdown",
   "metadata": {},
   "source": [
    "# Binomial Tree"
   ]
  },
  {
   "cell_type": "code",
   "execution_count": 1,
   "metadata": {},
   "outputs": [],
   "source": [
    "import numpy as np\n",
    "import matplotlib.pyplot as plt"
   ]
  },
  {
   "cell_type": "code",
   "execution_count": 2,
   "metadata": {},
   "outputs": [],
   "source": [
    "def buildTree (S, vol , T, N):\n",
    "    dt = T/N\n",
    "    matrix = np.zeros((N+1, N+1))\n",
    "    u = np.exp(vol*np.sqrt(dt))\n",
    "    d = np.exp(-vol*np.sqrt(dt))    # Or 1/u\n",
    "    for i in np.arange(N+1):        # iterate over rows\n",
    "        for j in np.arange(i+1):    # iterate over columns\n",
    "        # Hint : express each cell as a combination of up and down moves\n",
    "            matrix[i, j] = S*(u**j * d**(i-j))\n",
    "\n",
    "    return matrix "
   ]
  },
  {
   "cell_type": "code",
   "execution_count": 3,
   "metadata": {},
   "outputs": [
    {
     "name": "stdout",
     "output_type": "stream",
     "text": [
      "[[80.          0.          0.        ]\n",
      " [74.53851387 85.86165282  0.        ]\n",
      " [69.44987563 80.         92.15279281]]\n"
     ]
    }
   ],
   "source": [
    "sigma = 0.1\n",
    "S = 80\n",
    "T = 1.0\n",
    "N = 2\n",
    "\n",
    "print(buildTree(S, sigma, T, N))"
   ]
  },
  {
   "cell_type": "code",
   "execution_count": 4,
   "metadata": {},
   "outputs": [],
   "source": [
    "def valueOptionMatrix (tree, T, r, K, vol):\n",
    "\n",
    "    dt = T/len(tree)\n",
    "    u = np.exp(vol*np.sqrt(dt))\n",
    "    d = np.exp(-vol*np.sqrt(dt))    # Or 1/u\n",
    "    p = (np.exp(r*dt)-d)/(u-d)      # risk-neutral probability\n",
    "\n",
    "    columns = tree.shape[1]\n",
    "    rows = tree.shape[0]\n",
    "\n",
    "    # Walk backward, we start in last row of the matrix\n",
    "\n",
    "    # Add the payoff function in the last row\n",
    "    for c in np.arange(columns):\n",
    "        S = tree[rows - 1, c]   # value in the matrix\n",
    "        tree[rows - 1, c] = max(0, S-K) # Should be higher than strike price, or worthless (Call case)\n",
    "\n",
    "    # For all other rows, we need to combine from previous rows\n",
    "    # We walk backwards, from the last row to the first row\n",
    "    for i in np.arange(rows - 1)[::-1]:\n",
    "        for j in np.arange(i + 1):\n",
    "            down = tree[i + 1, j]\n",
    "            up = tree[i + 1, j + 1]\n",
    "            tree[i, j] = np.exp(-r*dt) * (p*up+(1-p)*down)\n",
    "\n",
    "    return tree\n"
   ]
  },
  {
   "cell_type": "code",
   "execution_count": 5,
   "metadata": {},
   "outputs": [
    {
     "data": {
      "text/plain": [
       "array([[4.06012206, 0.        , 0.        ],\n",
       "       [0.        , 5.38898987, 0.        ],\n",
       "       [0.        , 0.        , 7.15279281]])"
      ]
     },
     "execution_count": 5,
     "metadata": {},
     "output_type": "execute_result"
    }
   ],
   "source": [
    "sigma = 0.1\n",
    "S = 80\n",
    "T = 1.0\n",
    "N = 2\n",
    "K = 85\n",
    "r = 0.1\n",
    "\n",
    "tree = buildTree(S, sigma, T, N)\n",
    "valueOptionMatrix(tree, T, r, K, sigma)"
   ]
  },
  {
   "cell_type": "code",
   "execution_count": 23,
   "metadata": {},
   "outputs": [
    {
     "data": {
      "text/plain": [
       "[<matplotlib.lines.Line2D at 0x1f3660e1190>]"
      ]
     },
     "execution_count": 23,
     "metadata": {},
     "output_type": "execute_result"
    },
    {
     "data": {
      "image/png": "[encoded data removed]",
      "text/plain": [
       "<Figure size 640x480 with 1 Axes>"
      ]
     },
     "metadata": {},
     "output_type": "display_data"
    }
   ],
   "source": [
    "# Option params\n",
    "sigma = 0.1\n",
    "S = 80\n",
    "T = 1.0\n",
    "N = np.arange(1, 300)  # Play around with different ranges of N and step sizes (1,300)\n",
    "K = 85\n",
    "r = 0.1\n",
    "\n",
    "# Calculate the option price for the correct parameters\n",
    "from part3 import d1_d2, call_option_price\n",
    "d1, d2 = d1_d2(S, K, r, sigma, T)\n",
    "optionPriceAnalytical = call_option_price(S, K, r, T, d1, d2)\n",
    "\n",
    "# calculate option price for each n in N\n",
    "priceApproximatedly = []\n",
    "for n in N:\n",
    "    treeN = buildTree(S, sigma, T, n)\n",
    "    priceApproximatedly.append(valueOptionMatrix(treeN, T, r, K, sigma)[0,0])\n",
    "\n",
    "# use matplotlib to plot the analytical value\n",
    "# and the approximated value for each n\n",
    "plt.title(\"Error rate: Binomial vs Scholes\")\n",
    "plt.plot(N, [y-optionPriceAnalytical for y in priceApproximatedly])"
   ]
  }
 ],
 "metadata": {
  "kernelspec": {
   "display_name": "ABM",
   "language": "python",
   "name": "python3"
  },
  "language_info": {
   "codemirror_mode": {
    "name": "ipython",
    "version": 3
   },
   "file_extension": ".py",
   "mimetype": "text/x-python",
   "name": "python",
   "nbconvert_exporter": "python",
   "pygments_lexer": "ipython3",
   "version": "3.9.15"
  },
  "orig_nbformat": 4,
  "vscode": {
   "interpreter": {
    "hash": "86bc8a943d562c4a67ae73fc47e0f626d68abcc3b9f6a0a0642b86892949bf6b"
   }
  }
 },
 "nbformat": 4,
 "nbformat_minor": 2
}
