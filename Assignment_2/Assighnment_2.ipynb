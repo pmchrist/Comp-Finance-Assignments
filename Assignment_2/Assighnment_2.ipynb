{
 "cells": [
  {
   "cell_type": "code",
   "execution_count": 289,
   "metadata": {},
   "outputs": [],
   "source": [
    "# Overleaf\n",
    "# https://www.overleaf.com/9836375457csrqydskhcmj"
   ]
  },
  {
   "attachments": {},
   "cell_type": "markdown",
   "metadata": {},
   "source": [
    "# Init"
   ]
  },
  {
   "cell_type": "code",
   "execution_count": 290,
   "metadata": {},
   "outputs": [],
   "source": [
    "# Libraries\n",
    "import numpy as np\n",
    "from math import *\n",
    "from scipy.stats import norm"
   ]
  },
  {
   "cell_type": "code",
   "execution_count": 291,
   "metadata": {},
   "outputs": [],
   "source": [
    "# Option Characteristics\n",
    "S0 = 100\n",
    "K = 99\n",
    "r = 0.06\n",
    "sigma = 0.2\n",
    "T = 1.0\n",
    "M = 10_000\n",
    "np.random.seed = 42"
   ]
  },
  {
   "attachments": {},
   "cell_type": "markdown",
   "metadata": {},
   "source": [
    "# Monte Carlo"
   ]
  },
  {
   "cell_type": "code",
   "execution_count": 292,
   "metadata": {},
   "outputs": [
    {
     "name": "stdout",
     "output_type": "stream",
     "text": [
      "Option price: 11.4530\n",
      "Standard error: 0.1644\n",
      "95% Confidence interval: (11.1308, 11.7752)\n"
     ]
    }
   ],
   "source": [
    "# Finds value of an underlying at strike\n",
    "def mc_value(S0, r, sigma, T, M):\n",
    "    #dt = T/1    # N=1 Because of Geometric Brownian-Motion we can just simulate the variables at the final Time Step as Brownian Motion scales with time and independent increments.\n",
    "    results = np.zeros(M)\n",
    "    # Monte-Carlo Runs\n",
    "    for i in range(M):\n",
    "        S = S0 * np.exp((r - 0.5 * sigma**2) * T + sigma * np.sqrt(T) * np.random.normal())\n",
    "        results[i] = S\n",
    "    return results\n",
    "\n",
    "# Finds value of option at strike\n",
    "def mc_payoff(K, results, call, payoff_type):\n",
    "    # Find option payoffs\n",
    "    if payoff_type == \"vanilla\":\n",
    "        if call:\n",
    "            V = np.maximum(results - K, 0)\n",
    "        else:\n",
    "            V = np.maximum(K - results, 0)\n",
    "    if payoff_type == \"digital\":\n",
    "        if call:\n",
    "            V = np.maximum(results - K, 0)\n",
    "            V[V != 0] = 1\n",
    "        else:\n",
    "            V = np.maximum(K - results, 0)\n",
    "            V[V != 0] = 1\n",
    "    return V\n",
    "\n",
    "# Finding Fair Value from Monte Carlo Simulation\n",
    "mc_values = mc_value(S0, r, sigma, T, M)\n",
    "mc_payoffs = mc_payoff(K, mc_values, call = True, payoff_type = \"vanilla\")\n",
    "option_price = np.exp(-r * T) * np.mean(mc_payoffs)     # We have to discount the payoffs to calculate fair option's price\n",
    "print(f\"Option price: {option_price:.4f}\")\n",
    "\n",
    "# Finding Confidence Interval\n",
    "standard_error = np.std(mc_payoffs, ddof=1) / np.sqrt(len(mc_payoffs))\n",
    "t_stat = np.abs(norm.ppf(0.025))\n",
    "margin_of_error = t_stat * standard_error\n",
    "lower_bound = option_price - margin_of_error\n",
    "upper_bound = option_price + margin_of_error\n",
    "print(f\"Standard error: {standard_error:.4f}\")\n",
    "print(f\"95% Confidence interval: ({lower_bound:.4f}, {upper_bound:.4f})\")"
   ]
  },
  {
   "attachments": {},
   "cell_type": "markdown",
   "metadata": {},
   "source": [
    "# Approximating Delta"
   ]
  },
  {
   "cell_type": "code",
   "execution_count": 293,
   "metadata": {},
   "outputs": [
    {
     "name": "stdout",
     "output_type": "stream",
     "text": [
      "Delta approximation: 0.6684\n"
     ]
    }
   ],
   "source": [
    "# Finite Difference Method\n",
    "\n",
    "# Finding New Prices\n",
    "finite_difference_step = 0.1\n",
    "delta_S = S0 * finite_difference_step\n",
    "S_up = S0 + delta_S\n",
    "S_down = S0 - delta_S\n",
    "# Finding Approxiamation for Higher Price\n",
    "mc_values = mc_value(S_up, r, sigma, T, M)\n",
    "mc_results_up = mc_payoff(K, mc_values, call = True, payoff_type = \"vanilla\")\n",
    "option_price_up = np.exp(-r * T) * np.mean(mc_results_up)\n",
    "# Finding Approxiamation for Lower Price\n",
    "mc_values = mc_value(S_down, r, sigma, T, M)\n",
    "mc_results_down = mc_payoff(K, mc_values, call = True, payoff_type = \"vanilla\")\n",
    "option_price_down = np.exp(-r * T) * np.mean(mc_results_down)\n",
    "# Approximation of Delta with Finite Differences\n",
    "delta_approx = (np.mean(option_price_up) - np.mean(option_price_down)) / (2 * delta_S)\n",
    "\n",
    "# Print the results\n",
    "print(f\"Delta approximation: {delta_approx:.4f}\")"
   ]
  },
  {
   "cell_type": "code",
   "execution_count": 294,
   "metadata": {},
   "outputs": [],
   "source": [
    "# http://www.columbia.edu/~mh2078/MonteCarlo/MCS_Greeks.pdf\n",
    "# https://people.maths.ox.ac.uk/gilesm/mc/module_6/adjoints/adjoints.pdf\n",
    "# https://github.com/Redmek/Pricing-and-Hedging-of-Exotic-Options-Under-Black-Scholes-and-Heston-Models/blob/main/Pricing_exotic_options.ipynb\n",
    "\n",
    "# # Pathwise\n",
    "# # To work with digital option needs smoothing, as payoff is not continious\n",
    "# delta_pathwise = \n",
    "# print(f\"Delta approximation pathwise: {delta_pathwise:.4f}\")\n",
    "\n",
    "# # Likelihood\n",
    "# delta_likelihood_ratio =\n",
    "# print(f\"Delta approximation likelihood: {delta_likelihood_ratio:.4f}\")\n"
   ]
  },
  {
   "attachments": {},
   "cell_type": "markdown",
   "metadata": {},
   "source": [
    "Asian Option"
   ]
  },
  {
   "cell_type": "code",
   "execution_count": null,
   "metadata": {},
   "outputs": [],
   "source": [
    "def d1_d2(S0, K, r, sigma, T):\n",
    "    d1 = (log(S0/K) + (r+sigma**2/2)*T)/(sigma*sqrt(T))\n",
    "    d2 = d1 - sigma*sqrt(T)\n",
    "    return d1,d2\n",
    "def european_call_option_price(S0, K, r, T, d1, d2):\n",
    "    return S0*norm.cdf(d1) - K*exp(-r*T)*norm.cdf(d2)\n",
    "\n",
    "\n",
    "def asian_call_option_price(S0, N,sigma,K,r, T):\n",
    "    '''\n",
    "    :param S0: initial stock price\n",
    "    :param N: Number of observations\n",
    "    :param sigma: volatility\n",
    "    :param K: strike price\n",
    "    :param r: interest rate\n",
    "    :param T: maturity time\n",
    "    :return: payoff of an asian option\n",
    "    '''\n",
    "    asian_sigma = sigma*np.sqrt((2*N+1)/(6*(N+1)))\n",
    "    asian_risk_free_interest = 0.5*((r-0.5*sigma**2) + asian_sigma**2)\n",
    "    d1,d2=d1_d2(S0,K,asian_risk_free_interest, asian_sigma, T)\n",
    "    A_N = european_call_option_price(S0, K,asian_risk_free_interest, T,d1, d2)\n",
    "    return A_N-K"
   ]
  }
 ],
 "metadata": {
  "kernelspec": {
   "display_name": "ABM",
   "language": "python",
   "name": "python3"
  },
  "language_info": {
   "codemirror_mode": {
    "name": "ipython",
    "version": 3
   },
   "file_extension": ".py",
   "mimetype": "text/x-python",
   "name": "python",
   "nbconvert_exporter": "python",
   "pygments_lexer": "ipython3",
   "version": "3.9.15"
  },
  "orig_nbformat": 4,
  "vscode": {
   "interpreter": {
    "hash": "86bc8a943d562c4a67ae73fc47e0f626d68abcc3b9f6a0a0642b86892949bf6b"
   }
  }
 },
 "nbformat": 4,
 "nbformat_minor": 2
}
