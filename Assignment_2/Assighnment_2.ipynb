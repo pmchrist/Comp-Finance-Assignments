{
 "cells": [
  {
   "cell_type": "code",
   "execution_count": 273,
   "metadata": {},
   "outputs": [],
   "source": [
    "# Overleaf\n",
    "# https://www.overleaf.com/9836375457csrqydskhcmj"
   ]
  },
  {
   "attachments": {},
   "cell_type": "markdown",
   "metadata": {},
   "source": [
    "# Init"
   ]
  },
  {
   "cell_type": "code",
   "execution_count": 274,
   "metadata": {},
   "outputs": [],
   "source": [
    "# Libraries\n",
    "import numpy as np\n",
    "from scipy.stats import norm"
   ]
  },
  {
   "cell_type": "code",
   "execution_count": 275,
   "metadata": {},
   "outputs": [],
   "source": [
    "# Option Characteristics\n",
    "S0 = 100\n",
    "K = 99\n",
    "r = 0.06\n",
    "sigma = 0.2\n",
    "T = 1.0\n",
    "M = 10_000\n",
    "np.random.seed = 42"
   ]
  },
  {
   "attachments": {},
   "cell_type": "markdown",
   "metadata": {},
   "source": [
    "# Monte Carlo"
   ]
  },
  {
   "cell_type": "code",
   "execution_count": 276,
   "metadata": {},
   "outputs": [
    {
     "name": "stdout",
     "output_type": "stream",
     "text": [
      "Option price: 11.6170\n",
      "Standard error: 0.1622\n",
      "95% Confidence interval: (11.2992, 11.9349)\n"
     ]
    }
   ],
   "source": [
    "# Finds value of an underlying at strike\n",
    "def mc_value(S0, r, sigma, T, M):\n",
    "    dt = T/1    # N=1 Because of Geometric Brownian-Motion we can just simulate the variables at the final Time Step as Brownian Motion scales with time and independent increments.\n",
    "    results = np.zeros(M)\n",
    "    # Monte-Carlo Runs\n",
    "    for i in range(M):\n",
    "        S = S0 * np.exp((r - 0.5 * sigma**2) * dt + sigma * np.sqrt(dt) * np.random.normal())\n",
    "        results[i] = S\n",
    "    return results\n",
    "\n",
    "# Finds value of option at strike\n",
    "def mc_payoff(K, results, call, payoff_type):\n",
    "    # Find option payoffs\n",
    "    if payoff_type == \"vanilla\":\n",
    "        if call:\n",
    "            V = np.maximum(results - K, 0)\n",
    "        else:\n",
    "            V = np.maximum(K - results, 0)\n",
    "    if payoff_type == \"digital\":\n",
    "        if call:\n",
    "            V = np.maximum(results - K, 0)\n",
    "            V[V != 0] = 1\n",
    "        else:\n",
    "            V = np.maximum(K - results, 0)\n",
    "            V[V != 0] = 1\n",
    "    return V\n",
    "\n",
    "# Finding Fair Value from Monte Carlo Simulation\n",
    "mc_values = mc_value(S0, r, sigma, T, M)\n",
    "mc_payoffs = mc_payoff(K, mc_values, call = True, payoff_type = \"vanilla\")\n",
    "option_price = np.exp(-r * T) * np.mean(mc_payoffs)     # We have to discount the payoffs to calculate fair option's price\n",
    "print(f\"Option price: {option_price:.4f}\")\n",
    "\n",
    "# Finding Confidence Interval\n",
    "standard_error = np.std(mc_payoffs, ddof=1) / np.sqrt(len(mc_payoffs))\n",
    "t_stat = np.abs(norm.ppf(0.025))\n",
    "margin_of_error = t_stat * standard_error\n",
    "lower_bound = option_price - margin_of_error\n",
    "upper_bound = option_price + margin_of_error\n",
    "print(f\"Standard error: {standard_error:.4f}\")\n",
    "print(f\"95% Confidence interval: ({lower_bound:.4f}, {upper_bound:.4f})\")"
   ]
  },
  {
   "attachments": {},
   "cell_type": "markdown",
   "metadata": {},
   "source": [
    "# Approximating Delta"
   ]
  },
  {
   "cell_type": "code",
   "execution_count": 277,
   "metadata": {},
   "outputs": [
    {
     "name": "stdout",
     "output_type": "stream",
     "text": [
      "Delta approximation: 0.6523\n"
     ]
    }
   ],
   "source": [
    "# Finite Difference Method\n",
    "\n",
    "# Finding New Prices\n",
    "finite_difference_step = 0.1       # Not sure how to optimize this\n",
    "delta_S = S0 * finite_difference_step\n",
    "S_up = S0 + delta_S\n",
    "S_down = S0 - delta_S\n",
    "# Finding Approxiamation for Higher Price\n",
    "mc_values = mc_value(S_up, r, sigma, T, M)\n",
    "mc_results_up = mc_payoff(K, mc_values, call = True, payoff_type = \"vanilla\")\n",
    "option_price_up = np.exp(-r * T) * np.mean(mc_results_up)\n",
    "# Finding Approxiamation for Lower Price\n",
    "mc_values = mc_value(S_down, r, sigma, T, M)\n",
    "mc_results_down = mc_payoff(K, mc_values, call = True, payoff_type = \"vanilla\")\n",
    "option_price_down = np.exp(-r * T) * np.mean(mc_results_down)\n",
    "# Approximation of Delta with Finite Differences\n",
    "delta_approx = (np.mean(option_price_up) - np.mean(option_price_down)) / (2 * delta_S)\n",
    "\n",
    "# Print the results\n",
    "print(f\"Delta approximation: {delta_approx:.4f}\")"
   ]
  },
  {
   "attachments": {},
   "cell_type": "markdown",
   "metadata": {},
   "source": [
    "# A"
   ]
  },
  {
   "cell_type": "code",
   "execution_count": 278,
   "metadata": {},
   "outputs": [
    {
     "name": "stdout",
     "output_type": "stream",
     "text": [
      "Delta approximation pathwise: 0.1162\n",
      "Delta approximation likelihood: 0.0831\n"
     ]
    }
   ],
   "source": [
    "# Pathwise\n",
    "delta_pathwise = np.exp(-r * T) * option_price/ S0\n",
    "print(f\"Delta approximation pathwise: {delta_pathwise:.4f}\")\n",
    "\n",
    "# Likelihood\n",
    "d = (np.log(S0/K) + (r + 0.5*sigma**2)*T) / (sigma*np.sqrt(T))\n",
    "delta_likelihood_ratio = np.mean(mc_payoffs * norm.cdf(d)) / S0\n",
    "print(f\"Delta approximation likelihood: {delta_likelihood_ratio:.4f}\")\n"
   ]
  },
  {
   "cell_type": "code",
   "execution_count": 279,
   "metadata": {},
   "outputs": [],
   "source": [
    "\n",
    "def delta_likelihood_ratio(S, K, r, sigma, T, N):\n",
    "    \"\"\"\n",
    "    S: initial stock price\n",
    "    K: strike price\n",
    "    r: risk-free interest rate\n",
    "    sigma: volatility of the stock price\n",
    "    T: time to maturity\n",
    "    N: number of simulations\n",
    "    \"\"\"\n",
    "    # Calculate required parameters\n",
    "    dt = T/N\n",
    "    d1 = (np.log(S/K) + (r + 0.5*sigma**2)*T) / (sigma*np.sqrt(T))\n",
    "    \n",
    "    # Generate random numbers for stock price simulations\n",
    "    Z = np.random.standard_normal(N)\n",
    "    S_t = S * np.exp((r - 0.5*sigma**2)*dt + sigma*np.sqrt(dt)*Z)\n",
    "    \n",
    "    # Calculate option payoffs\n",
    "    payoffs = np.maximum(S_t - K, 0)\n",
    "    \n",
    "    # Calculate option price using Monte Carlo simulation\n",
    "    discount_factor = np.exp(-r*T)\n",
    "    option_price = discount_factor * np.mean(payoffs)\n",
    "    \n",
    "    # Calculate delta using likelihood ratio method\n",
    "    delta_likelihood_ratio = np.mean(payoffs * norm.cdf(d1)) / S\n",
    "    \n",
    "    return option\n"
   ]
  }
 ],
 "metadata": {
  "kernelspec": {
   "display_name": "ABM",
   "language": "python",
   "name": "python3"
  },
  "language_info": {
   "codemirror_mode": {
    "name": "ipython",
    "version": 3
   },
   "file_extension": ".py",
   "mimetype": "text/x-python",
   "name": "python",
   "nbconvert_exporter": "python",
   "pygments_lexer": "ipython3",
   "version": "3.9.15"
  },
  "orig_nbformat": 4,
  "vscode": {
   "interpreter": {
    "hash": "86bc8a943d562c4a67ae73fc47e0f626d68abcc3b9f6a0a0642b86892949bf6b"
   }
  }
 },
 "nbformat": 4,
 "nbformat_minor": 2
}
