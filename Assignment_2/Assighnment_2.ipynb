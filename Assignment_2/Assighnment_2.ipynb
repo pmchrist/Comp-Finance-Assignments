{
 "cells": [
  {
   "cell_type": "code",
   "execution_count": 233,
   "metadata": {},
   "outputs": [],
   "source": [
    "# Overleaf\n",
    "# https://www.overleaf.com/9836375457csrqydskhcmj"
   ]
  },
  {
   "attachments": {},
   "cell_type": "markdown",
   "metadata": {},
   "source": [
    "# Init"
   ]
  },
  {
   "cell_type": "code",
   "execution_count": 234,
   "metadata": {},
   "outputs": [],
   "source": [
    "# Libraries\n",
    "import numpy as np\n",
    "from scipy.stats import norm"
   ]
  },
  {
   "cell_type": "code",
   "execution_count": 235,
   "metadata": {},
   "outputs": [],
   "source": [
    "# Option Characteristics\n",
    "S0 = 100\n",
    "K = 99\n",
    "r = 0.06\n",
    "sigma = 0.2\n",
    "T = 1.0\n",
    "M = 10_000\n",
    "np.random.seed = 42"
   ]
  },
  {
   "attachments": {},
   "cell_type": "markdown",
   "metadata": {},
   "source": [
    "# Monte Carlo"
   ]
  },
  {
   "cell_type": "code",
   "execution_count": 236,
   "metadata": {},
   "outputs": [
    {
     "name": "stdout",
     "output_type": "stream",
     "text": [
      "Option price: 0.5662\n",
      "Standard error: 0.0049\n",
      "95% Confidence interval: (0.5566, 0.5758)\n"
     ]
    }
   ],
   "source": [
    "\n",
    "def mc_payoff(results, call, payoff_type):\n",
    "    # Find option payoffs\n",
    "    if payoff_type == \"vanilla\":\n",
    "        if call:\n",
    "            V = np.maximum(results - K, 0)\n",
    "        else:\n",
    "            V = np.maximum(K - results, 0)\n",
    "    if payoff_type == \"digital\":\n",
    "        if call:\n",
    "            V = np.maximum(results - K, 0)\n",
    "            V[V != 0] = 1\n",
    "        else:\n",
    "            V = np.maximum(K - results, 0)\n",
    "            V[V != 0] = 1\n",
    "    return V\n",
    "\n",
    "\n",
    "\n",
    "# It uses GBM for underlying, we might need to use another scheme from provided papers, not sure\n",
    "def monte_carlo_option_valuations(S0, K, r, sigma, T, M, call=True, payoff=\"vanilla\"):\n",
    "    \"\"\"\n",
    "    N - Amount of Runs in a Simulation\n",
    "    M - Amount of Simulations\n",
    "    \"\"\"\n",
    "\n",
    "    dt = T/1    # N=1 Because of Geometric Brownian-Motion we can just simulate the variables at the final Time Step as Brownian Motion scales with time and independent increments.\n",
    "    results = np.zeros(M)\n",
    "    \n",
    "    # Monte-Carlo Runs\n",
    "    for i in range(M):\n",
    "        S = S0 * np.exp((r - 0.5 * sigma**2) * dt + sigma * np.sqrt(dt) * np.random.normal())\n",
    "        results[i] = S\n",
    "    \n",
    "    # Find option payoffs\n",
    "    V = mc_payoff(results, call, payoff)\n",
    " \n",
    "    return V\n",
    "\n",
    "\n",
    "# Finding Fair Value from Monte Carlo Simulation\n",
    "mc_results = monte_carlo_option_valuations(S0, K, r, sigma, T, M, True, \"vanilla\")\n",
    "option_price = np.exp(-r * T) * np.mean(mc_results)     # We have to discount the payoffs to calculate fair option's price\n",
    "print(f\"Option price: {option_price:.4f}\")\n",
    "\n",
    "# Finding Confidence Interval\n",
    "standard_error = np.std(mc_results, ddof=1) / np.sqrt(len(mc_results))\n",
    "t_stat = np.abs(norm.ppf(0.025))\n",
    "margin_of_error = t_stat * standard_error\n",
    "lower_bound = option_price - margin_of_error\n",
    "upper_bound = option_price + margin_of_error\n",
    "print(f\"Standard error: {standard_error:.4f}\")\n",
    "print(f\"95% Confidence interval: ({lower_bound:.4f}, {upper_bound:.4f})\")"
   ]
  },
  {
   "attachments": {},
   "cell_type": "markdown",
   "metadata": {},
   "source": [
    "# Approximating Delta"
   ]
  },
  {
   "cell_type": "code",
   "execution_count": 237,
   "metadata": {},
   "outputs": [
    {
     "name": "stdout",
     "output_type": "stream",
     "text": [
      "Delta approximation: 0.6525\n"
     ]
    }
   ],
   "source": [
    "# Finite Difference Method\n",
    "\n",
    "# Finding New Prices\n",
    "finite_difference_step = 0.1       # Not sure how to optimize this\n",
    "delta_S = S0 * finite_difference_step\n",
    "S_up = S0 + delta_S\n",
    "S_down = S0 - delta_S\n",
    "# Finding Approxiamation for Higher Price\n",
    "mc_results_up = monte_carlo_option_valuations(S_up, K, r, sigma, T, M, True)\n",
    "payoff_up = np.exp(-r * T) * np.mean(mc_results_up)\n",
    "# Finding Approxiamation for Lower Price\n",
    "mc_results_down = monte_carlo_option_valuations(S_down, K, r, sigma, T, M, True)\n",
    "payoff_down = np.exp(-r * T) * np.mean(mc_results_down)\n",
    "# Approximation of Delta with Finite Differences\n",
    "delta_approx = (np.mean(payoff_up) - np.mean(payoff_down)) / (2 * delta_S)\n",
    "\n",
    "# Print the results\n",
    "print(f\"Delta approximation: {delta_approx:.4f}\")"
   ]
  }
 ],
 "metadata": {
  "kernelspec": {
   "display_name": "ABM",
   "language": "python",
   "name": "python3"
  },
  "language_info": {
   "codemirror_mode": {
    "name": "ipython",
    "version": 3
   },
   "file_extension": ".py",
   "mimetype": "text/x-python",
   "name": "python",
   "nbconvert_exporter": "python",
   "pygments_lexer": "ipython3",
   "version": "3.9.15"
  },
  "orig_nbformat": 4,
  "vscode": {
   "interpreter": {
    "hash": "86bc8a943d562c4a67ae73fc47e0f626d68abcc3b9f6a0a0642b86892949bf6b"
   }
  }
 },
 "nbformat": 4,
 "nbformat_minor": 2
}
